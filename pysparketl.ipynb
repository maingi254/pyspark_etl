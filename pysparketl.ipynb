{
  "nbformat": 4,
  "nbformat_minor": 0,
  "metadata": {
    "colab": {
      "provenance": [],
      "toc_visible": true
    },
    "kernelspec": {
      "name": "python3",
      "display_name": "Python 3"
    },
    "language_info": {
      "name": "python"
    }
  },
  "cells": [
    {
      "cell_type": "code",
      "execution_count": 1,
      "metadata": {
        "colab": {
          "base_uri": "https://localhost:8080/"
        },
        "id": "_RwTsT6vCzfN",
        "outputId": "492df59c-bffc-48b5-fc3f-00614f20eafd"
      },
      "outputs": [
        {
          "output_type": "stream",
          "name": "stdout",
          "text": [
            "Collecting pyspark\n",
            "  Downloading pyspark-3.4.1.tar.gz (310.8 MB)\n",
            "\u001b[2K     \u001b[90m━━━━━━━━━━━━━━━━━━━━━━━━━━━━━━━━━━━━━━━\u001b[0m \u001b[32m310.8/310.8 MB\u001b[0m \u001b[31m4.6 MB/s\u001b[0m eta \u001b[36m0:00:00\u001b[0m\n",
            "\u001b[?25h  Preparing metadata (setup.py) ... \u001b[?25l\u001b[?25hdone\n",
            "Requirement already satisfied: py4j==0.10.9.7 in /usr/local/lib/python3.10/dist-packages (from pyspark) (0.10.9.7)\n",
            "Building wheels for collected packages: pyspark\n",
            "  Building wheel for pyspark (setup.py) ... \u001b[?25l\u001b[?25hdone\n",
            "  Created wheel for pyspark: filename=pyspark-3.4.1-py2.py3-none-any.whl size=311285398 sha256=a25f28a9da08c6e0de494314f5da736f98a24110bbe0a4f37ab1129b1f1c031c\n",
            "  Stored in directory: /root/.cache/pip/wheels/0d/77/a3/ff2f74cc9ab41f8f594dabf0579c2a7c6de920d584206e0834\n",
            "Successfully built pyspark\n",
            "Installing collected packages: pyspark\n",
            "Successfully installed pyspark-3.4.1\n"
          ]
        }
      ],
      "source": [
        "pip install pyspark"
      ]
    },
    {
      "cell_type": "code",
      "source": [
        "from pyspark.sql  import SparkSession\n",
        "from pyspark.sql import SQLContext\n",
        "\n",
        "if __name__ == '__main__':\n",
        "  scSpark=SparkSession.builder.appName(\"reading csv\").getOrCreate()"
      ],
      "metadata": {
        "id": "0EXoszrPDflu"
      },
      "execution_count": 5,
      "outputs": []
    },
    {
      "cell_type": "code",
      "source": [
        "datafile='/content/sample_data/california_housing_test.csv'\n",
        "sdfdata=scSpark.read.csv(datafile,header=True,sep=',').cache()\n",
        "print('Total records = {}'.format(sdfdata.count()))\n",
        "sdfdata.show()\n",
        "\n",
        "super='/content/supermarket.csv'\n",
        "supermarket=scSpark.read.csv(super,header=True,sep=',') .cache()\n",
        "gender=supermarket.groupBy('Gender').count()\n",
        "print(gender.show())"
      ],
      "metadata": {
        "colab": {
          "base_uri": "https://localhost:8080/"
        },
        "id": "lkc9LRSBX8Wc",
        "outputId": "7060f45b-dfb3-438e-ef3e-7447a924610e"
      },
      "execution_count": 8,
      "outputs": [
        {
          "output_type": "stream",
          "name": "stdout",
          "text": [
            "Total records = 3000\n",
            "+-----------+---------+------------------+-----------+--------------+-----------+-----------+-------------+------------------+\n",
            "|  longitude| latitude|housing_median_age|total_rooms|total_bedrooms| population| households|median_income|median_house_value|\n",
            "+-----------+---------+------------------+-----------+--------------+-----------+-----------+-------------+------------------+\n",
            "|-122.050000|37.370000|         27.000000|3885.000000|    661.000000|1537.000000| 606.000000|     6.608500|     344700.000000|\n",
            "|-118.300000|34.260000|         43.000000|1510.000000|    310.000000| 809.000000| 277.000000|     3.599000|     176500.000000|\n",
            "|-117.810000|33.780000|         27.000000|3589.000000|    507.000000|1484.000000| 495.000000|     5.793400|     270500.000000|\n",
            "|-118.360000|33.820000|         28.000000|  67.000000|     15.000000|  49.000000|  11.000000|     6.135900|     330000.000000|\n",
            "|-119.670000|36.330000|         19.000000|1241.000000|    244.000000| 850.000000| 237.000000|     2.937500|      81700.000000|\n",
            "|-119.560000|36.510000|         37.000000|1018.000000|    213.000000| 663.000000| 204.000000|     1.663500|      67000.000000|\n",
            "|-121.430000|38.630000|         43.000000|1009.000000|    225.000000| 604.000000| 218.000000|     1.664100|      67000.000000|\n",
            "|-120.650000|35.480000|         19.000000|2310.000000|    471.000000|1341.000000| 441.000000|     3.225000|     166900.000000|\n",
            "|-122.840000|38.400000|         15.000000|3080.000000|    617.000000|1446.000000| 599.000000|     3.669600|     194400.000000|\n",
            "|-118.020000|34.080000|         31.000000|2402.000000|    632.000000|2830.000000| 603.000000|     2.333300|     164200.000000|\n",
            "|-118.240000|33.980000|         45.000000| 972.000000|    249.000000|1288.000000| 261.000000|     2.205400|     125000.000000|\n",
            "|-119.120000|35.850000|         37.000000| 736.000000|    166.000000| 564.000000| 138.000000|     2.416700|      58300.000000|\n",
            "|-121.930000|37.250000|         36.000000|1089.000000|    182.000000| 535.000000| 170.000000|     4.690000|     252600.000000|\n",
            "|-117.030000|32.970000|         16.000000|3936.000000|    694.000000|1935.000000| 659.000000|     4.562500|     231200.000000|\n",
            "|-117.970000|33.730000|         27.000000|2097.000000|    325.000000|1217.000000| 331.000000|     5.712100|     222500.000000|\n",
            "|-117.990000|33.810000|         42.000000| 161.000000|     40.000000| 157.000000|  50.000000|     2.200000|     153100.000000|\n",
            "|-120.810000|37.530000|         15.000000| 570.000000|    123.000000| 189.000000| 107.000000|     1.875000|     181300.000000|\n",
            "|-121.200000|38.690000|         26.000000|3077.000000|    607.000000|1603.000000| 595.000000|     2.717400|     137500.000000|\n",
            "|-118.880000|34.210000|         26.000000|1590.000000|    196.000000| 654.000000| 199.000000|     6.585100|     300000.000000|\n",
            "|-122.590000|38.010000|         35.000000|8814.000000|   1307.000000|3450.000000|1258.000000|     6.172400|     414300.000000|\n",
            "+-----------+---------+------------------+-----------+--------------+-----------+-----------+-------------+------------------+\n",
            "only showing top 20 rows\n",
            "\n",
            "+------+-----+\n",
            "|Gender|count|\n",
            "+------+-----+\n",
            "|Female|  501|\n",
            "|  Male|  499|\n",
            "+------+-----+\n",
            "\n",
            "None\n"
          ]
        }
      ]
    },
    {
      "cell_type": "code",
      "source": [
        "supermarket.registerTempTable(\"market\")\n",
        "output=scSpark.sql(\"select * from market where `UNIT PRICE` < 15 AND QUANTITY < 10\")\n",
        "output.show()"
      ],
      "metadata": {
        "colab": {
          "base_uri": "https://localhost:8080/"
        },
        "id": "CAJdgENLkKCh",
        "outputId": "b643c6b4-bb55-441e-9a3e-fe629d9b5f71"
      },
      "execution_count": 14,
      "outputs": [
        {
          "output_type": "stream",
          "name": "stdout",
          "text": [
            "+-----------+------+---------+-------------+------+--------------------+----------+--------+------+--------+---------+-----+-----------+------+-----------------------+------------+------+\n",
            "| Invoice ID|Branch|     City|Customer type|Gender|        Product line|Unit price|Quantity|Tax 5%|   Total|     Date| Time|    Payment|  cogs|gross margin percentage|gross income|Rating|\n",
            "+-----------+------+---------+-------------+------+--------------------+----------+--------+------+--------+---------+-----+-----------+------+-----------------------+------------+------+\n",
            "|351-62-0822|     B| Mandalay|       Member|Female| Fashion accessories|     14.48|       4| 2.896|  60.816| 2/6/2019|18:07|    Ewallet| 57.92|            4.761904762|       2.896|   4.5|\n",
            "|871-39-9221|     C|Naypyitaw|       Normal|Female|Electronic access...|     12.45|       6| 3.735|  78.435| 2/9/2019|13:11|       Cash|  74.7|            4.761904762|       3.735|   4.1|\n",
            "|586-25-0848|     A|   Yangon|       Normal|Female|   Sports and travel|     12.34|       7| 4.319|  90.699| 3/4/2019|11:19|Credit card| 86.38|            4.761904762|       4.319|   6.7|\n",
            "|389-25-3394|     C|Naypyitaw|       Normal|  Male|Electronic access...|     11.81|       5|2.9525| 62.0025|2/17/2019|18:06|       Cash| 59.05|            4.761904762|      2.9525|   9.4|\n",
            "|279-62-1445|     C|Naypyitaw|       Member|Female| Fashion accessories|     12.54|       1| 0.627|  13.167|2/21/2019|12:38|       Cash| 12.54|            4.761904762|       0.627|   8.2|\n",
            "|545-46-3100|     B| Mandalay|       Member|Female|Electronic access...|     10.59|       3|1.5885| 33.3585|3/12/2019|13:52|Credit card| 31.77|            4.761904762|      1.5885|   8.7|\n",
            "|346-84-3103|     B| Mandalay|       Member|Female|Electronic access...|     13.22|       5| 3.305|  69.405| 3/2/2019|19:26|       Cash|  66.1|            4.761904762|       3.305|   4.3|\n",
            "|883-17-4236|     C|Naypyitaw|       Normal|Female|   Sports and travel|     14.39|       2| 1.439|  30.219| 3/2/2019|19:44|Credit card| 28.78|            4.761904762|       1.439|   7.2|\n",
            "|633-91-1052|     A|   Yangon|       Normal|Female|  Home and lifestyle|     12.03|       2| 1.203|  25.263|1/27/2019|15:51|       Cash| 24.06|            4.761904762|       1.203|   5.1|\n",
            "|396-90-2219|     B| Mandalay|       Normal|Female|Electronic access...|     14.96|       8| 5.984| 125.664|2/23/2019|12:29|       Cash|119.68|            4.761904762|       5.984|   8.6|\n",
            "|870-76-1733|     A|   Yangon|       Member|Female|  Food and beverages|     14.23|       5|3.5575| 74.7075| 2/1/2019|10:08|Credit card| 71.15|            4.761904762|      3.5575|   4.4|\n",
            "|835-16-0096|     C|Naypyitaw|       Member|  Male|   Sports and travel|      14.7|       5| 3.675|  77.175|3/24/2019|13:48|    Ewallet|  73.5|            4.761904762|       3.675|   8.5|\n",
            "|760-54-1821|     B| Mandalay|       Normal|  Male|  Home and lifestyle|     13.59|       9|6.1155|128.4255|3/15/2019|10:26|       Cash|122.31|            4.761904762|      6.1155|   5.8|\n",
            "|236-86-3015|     C|Naypyitaw|       Member|  Male|  Home and lifestyle|     13.98|       1| 0.699|  14.679| 2/4/2019|13:38|    Ewallet| 13.98|            4.761904762|       0.699|   9.8|\n",
            "|732-67-5346|     A|   Yangon|       Normal|  Male|  Food and beverages|     13.79|       5|3.4475| 72.3975|1/11/2019|19:07|Credit card| 68.95|            4.761904762|      3.4475|   7.8|\n",
            "|192-98-7397|     C|Naypyitaw|       Normal|  Male| Fashion accessories|     12.78|       1| 0.639|  13.419| 1/8/2019|14:11|    Ewallet| 12.78|            4.761904762|       0.639|   9.5|\n",
            "|239-48-4278|     A|   Yangon|       Member|  Male|  Food and beverages|     10.13|       7|3.5455| 74.4555|3/10/2019|19:35|    Ewallet| 70.91|            4.761904762|      3.5455|   8.3|\n",
            "|227-50-3718|     A|   Yangon|       Normal|  Male|   Health and beauty|     14.62|       5| 3.655|  76.755| 3/4/2019|12:23|       Cash|  73.1|            4.761904762|       3.655|   4.4|\n",
            "|470-31-3286|     B| Mandalay|       Normal|  Male|   Health and beauty|     14.82|       3| 2.223|  46.683| 3/1/2019|11:30|Credit card| 44.46|            4.761904762|       2.223|   8.7|\n",
            "|308-39-1707|     A|   Yangon|       Normal|Female| Fashion accessories|     12.09|       1|0.6045| 12.6945|1/26/2019|18:19|Credit card| 12.09|            4.761904762|      0.6045|   8.2|\n",
            "+-----------+------+---------+-------------+------+--------------------+----------+--------+------+--------+---------+-----+-----------+------+-----------------------+------------+------+\n",
            "only showing top 20 rows\n",
            "\n"
          ]
        }
      ]
    },
    {
      "cell_type": "code",
      "source": [
        "output.write.format('json').save(\"data.json\")"
      ],
      "metadata": {
        "id": "IRfnFCsWofss"
      },
      "execution_count": 15,
      "outputs": []
    }
  ]
}